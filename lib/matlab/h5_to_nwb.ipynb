{
 "cells": [
  {
   "cell_type": "code",
   "execution_count": 7,
   "metadata": {},
   "outputs": [
    {
     "name": "stdout",
     "output_type": "stream",
     "text": [
      "****************************************\n",
      "USING THE FOLLOWING PARAMETERS:\n",
      "\n",
      "INPUT FILE: Z:\\Jacob\\nwb_process\\02.Jun.2023_17.06.29_JD221115M1_G80_dualpuff_0.08Hzsvd_puff_wave.h5 [ABSOLUTE PATH OR PATH RELATIVE TO CURRENT DIRECTORY]\n",
      "\n",
      "OUTPUT FOLDER: D:\\temp\\output\\h5_to_nwb_test.nwb [DEFAULT: CURRENT WORKING DIRECTORY]\n",
      "\n"
     ]
    },
    {
     "ename": "ValueError",
     "evalue": "path is on mount 'Z:', start on mount 'D:'",
     "output_type": "error",
     "traceback": [
      "\u001b[1;31m---------------------------------------------------------------------------\u001b[0m",
      "\u001b[1;31mValueError\u001b[0m                                Traceback (most recent call last)",
      "Input \u001b[1;32mIn [7]\u001b[0m, in \u001b[0;36m<cell line: 55>\u001b[1;34m()\u001b[0m\n\u001b[0;32m     54\u001b[0m \u001b[38;5;66;03m# Write the NWB file\u001b[39;00m\n\u001b[0;32m     55\u001b[0m \u001b[38;5;28;01mwith\u001b[39;00m NWBHDF5IO(output_path, \u001b[38;5;124m'\u001b[39m\u001b[38;5;124mw\u001b[39m\u001b[38;5;124m'\u001b[39m) \u001b[38;5;28;01mas\u001b[39;00m io:\n\u001b[1;32m---> 56\u001b[0m     \u001b[43mio\u001b[49m\u001b[38;5;241;43m.\u001b[39;49m\u001b[43mwrite\u001b[49m\u001b[43m(\u001b[49m\u001b[43mnwbfile\u001b[49m\u001b[43m)\u001b[49m\n\u001b[0;32m     58\u001b[0m \u001b[38;5;66;03m# Close the H5 file\u001b[39;00m\n\u001b[0;32m     59\u001b[0m h5_file\u001b[38;5;241m.\u001b[39mclose()\n",
      "File \u001b[1;32md:\\venv\\nwb2\\lib\\site-packages\\hdmf\\utils.py:664\u001b[0m, in \u001b[0;36mdocval.<locals>.dec.<locals>.func_call\u001b[1;34m(*args, **kwargs)\u001b[0m\n\u001b[0;32m    662\u001b[0m \u001b[38;5;28;01mdef\u001b[39;00m \u001b[38;5;21mfunc_call\u001b[39m(\u001b[38;5;241m*\u001b[39margs, \u001b[38;5;241m*\u001b[39m\u001b[38;5;241m*\u001b[39mkwargs):\n\u001b[0;32m    663\u001b[0m     pargs \u001b[38;5;241m=\u001b[39m _check_args(args, kwargs)\n\u001b[1;32m--> 664\u001b[0m     \u001b[38;5;28;01mreturn\u001b[39;00m func(args[\u001b[38;5;241m0\u001b[39m], \u001b[38;5;241m*\u001b[39m\u001b[38;5;241m*\u001b[39mpargs)\n",
      "File \u001b[1;32md:\\venv\\nwb2\\lib\\site-packages\\hdmf\\backends\\hdf5\\h5tools.py:377\u001b[0m, in \u001b[0;36mHDF5IO.write\u001b[1;34m(self, **kwargs)\u001b[0m\n\u001b[0;32m    372\u001b[0m     \u001b[38;5;28;01mraise\u001b[39;00m UnsupportedOperation((\u001b[38;5;124m\"\u001b[39m\u001b[38;5;124mCannot write to file \u001b[39m\u001b[38;5;132;01m%s\u001b[39;00m\u001b[38;5;124m in mode \u001b[39m\u001b[38;5;124m'\u001b[39m\u001b[38;5;132;01m%s\u001b[39;00m\u001b[38;5;124m'\u001b[39m\u001b[38;5;124m. \u001b[39m\u001b[38;5;124m\"\u001b[39m\n\u001b[0;32m    373\u001b[0m                                 \u001b[38;5;124m\"\u001b[39m\u001b[38;5;124mPlease use mode \u001b[39m\u001b[38;5;124m'\u001b[39m\u001b[38;5;124mr+\u001b[39m\u001b[38;5;124m'\u001b[39m\u001b[38;5;124m, \u001b[39m\u001b[38;5;124m'\u001b[39m\u001b[38;5;124mw\u001b[39m\u001b[38;5;124m'\u001b[39m\u001b[38;5;124m, \u001b[39m\u001b[38;5;124m'\u001b[39m\u001b[38;5;124mw-\u001b[39m\u001b[38;5;124m'\u001b[39m\u001b[38;5;124m, \u001b[39m\u001b[38;5;124m'\u001b[39m\u001b[38;5;124mx\u001b[39m\u001b[38;5;124m'\u001b[39m\u001b[38;5;124m, or \u001b[39m\u001b[38;5;124m'\u001b[39m\u001b[38;5;124ma\u001b[39m\u001b[38;5;124m'\u001b[39m\u001b[38;5;124m\"\u001b[39m)\n\u001b[0;32m    374\u001b[0m                                \u001b[38;5;241m%\u001b[39m (\u001b[38;5;28mself\u001b[39m\u001b[38;5;241m.\u001b[39msource, \u001b[38;5;28mself\u001b[39m\u001b[38;5;241m.\u001b[39m__mode))\n\u001b[0;32m    376\u001b[0m cache_spec \u001b[38;5;241m=\u001b[39m popargs(\u001b[38;5;124m'\u001b[39m\u001b[38;5;124mcache_spec\u001b[39m\u001b[38;5;124m'\u001b[39m, kwargs)\n\u001b[1;32m--> 377\u001b[0m \u001b[38;5;28msuper\u001b[39m()\u001b[38;5;241m.\u001b[39mwrite(\u001b[38;5;241m*\u001b[39m\u001b[38;5;241m*\u001b[39mkwargs)\n\u001b[0;32m    378\u001b[0m \u001b[38;5;28;01mif\u001b[39;00m cache_spec:\n\u001b[0;32m    379\u001b[0m     \u001b[38;5;28mself\u001b[39m\u001b[38;5;241m.\u001b[39m__cache_spec()\n",
      "File \u001b[1;32md:\\venv\\nwb2\\lib\\site-packages\\hdmf\\utils.py:664\u001b[0m, in \u001b[0;36mdocval.<locals>.dec.<locals>.func_call\u001b[1;34m(*args, **kwargs)\u001b[0m\n\u001b[0;32m    662\u001b[0m \u001b[38;5;28;01mdef\u001b[39;00m \u001b[38;5;21mfunc_call\u001b[39m(\u001b[38;5;241m*\u001b[39margs, \u001b[38;5;241m*\u001b[39m\u001b[38;5;241m*\u001b[39mkwargs):\n\u001b[0;32m    663\u001b[0m     pargs \u001b[38;5;241m=\u001b[39m _check_args(args, kwargs)\n\u001b[1;32m--> 664\u001b[0m     \u001b[38;5;28;01mreturn\u001b[39;00m func(args[\u001b[38;5;241m0\u001b[39m], \u001b[38;5;241m*\u001b[39m\u001b[38;5;241m*\u001b[39mpargs)\n",
      "File \u001b[1;32md:\\venv\\nwb2\\lib\\site-packages\\hdmf\\backends\\io.py:99\u001b[0m, in \u001b[0;36mHDMFIO.write\u001b[1;34m(self, **kwargs)\u001b[0m\n\u001b[0;32m     97\u001b[0m \u001b[38;5;124;03m\"\"\"Write a container to the IO source.\"\"\"\u001b[39;00m\n\u001b[0;32m     98\u001b[0m f_builder \u001b[38;5;241m=\u001b[39m \u001b[38;5;28mself\u001b[39m\u001b[38;5;241m.\u001b[39m__manager\u001b[38;5;241m.\u001b[39mbuild(container, source\u001b[38;5;241m=\u001b[39m\u001b[38;5;28mself\u001b[39m\u001b[38;5;241m.\u001b[39m__source, root\u001b[38;5;241m=\u001b[39m\u001b[38;5;28;01mTrue\u001b[39;00m)\n\u001b[1;32m---> 99\u001b[0m \u001b[38;5;28mself\u001b[39m\u001b[38;5;241m.\u001b[39mwrite_builder(f_builder, \u001b[38;5;241m*\u001b[39m\u001b[38;5;241m*\u001b[39mkwargs)\n",
      "File \u001b[1;32md:\\venv\\nwb2\\lib\\site-packages\\hdmf\\utils.py:664\u001b[0m, in \u001b[0;36mdocval.<locals>.dec.<locals>.func_call\u001b[1;34m(*args, **kwargs)\u001b[0m\n\u001b[0;32m    662\u001b[0m \u001b[38;5;28;01mdef\u001b[39;00m \u001b[38;5;21mfunc_call\u001b[39m(\u001b[38;5;241m*\u001b[39margs, \u001b[38;5;241m*\u001b[39m\u001b[38;5;241m*\u001b[39mkwargs):\n\u001b[0;32m    663\u001b[0m     pargs \u001b[38;5;241m=\u001b[39m _check_args(args, kwargs)\n\u001b[1;32m--> 664\u001b[0m     \u001b[38;5;28;01mreturn\u001b[39;00m func(args[\u001b[38;5;241m0\u001b[39m], \u001b[38;5;241m*\u001b[39m\u001b[38;5;241m*\u001b[39mpargs)\n",
      "File \u001b[1;32md:\\venv\\nwb2\\lib\\site-packages\\hdmf\\backends\\hdf5\\h5tools.py:814\u001b[0m, in \u001b[0;36mHDF5IO.write_builder\u001b[1;34m(self, **kwargs)\u001b[0m\n\u001b[0;32m    811\u001b[0m \u001b[38;5;28mself\u001b[39m\u001b[38;5;241m.\u001b[39mlogger\u001b[38;5;241m.\u001b[39mdebug(\u001b[38;5;124m\"\u001b[39m\u001b[38;5;124mWriting GroupBuilder \u001b[39m\u001b[38;5;124m'\u001b[39m\u001b[38;5;132;01m%s\u001b[39;00m\u001b[38;5;124m'\u001b[39m\u001b[38;5;124m to path \u001b[39m\u001b[38;5;124m'\u001b[39m\u001b[38;5;132;01m%s\u001b[39;00m\u001b[38;5;124m'\u001b[39m\u001b[38;5;124m with kwargs=\u001b[39m\u001b[38;5;132;01m%s\u001b[39;00m\u001b[38;5;124m\"\u001b[39m\n\u001b[0;32m    812\u001b[0m                   \u001b[38;5;241m%\u001b[39m (f_builder\u001b[38;5;241m.\u001b[39mname, \u001b[38;5;28mself\u001b[39m\u001b[38;5;241m.\u001b[39msource, kwargs))\n\u001b[0;32m    813\u001b[0m \u001b[38;5;28;01mfor\u001b[39;00m name, gbldr \u001b[38;5;129;01min\u001b[39;00m f_builder\u001b[38;5;241m.\u001b[39mgroups\u001b[38;5;241m.\u001b[39mitems():\n\u001b[1;32m--> 814\u001b[0m     \u001b[38;5;28mself\u001b[39m\u001b[38;5;241m.\u001b[39mwrite_group(\u001b[38;5;28mself\u001b[39m\u001b[38;5;241m.\u001b[39m__file, gbldr, \u001b[38;5;241m*\u001b[39m\u001b[38;5;241m*\u001b[39mkwargs)\n\u001b[0;32m    815\u001b[0m \u001b[38;5;28;01mfor\u001b[39;00m name, dbldr \u001b[38;5;129;01min\u001b[39;00m f_builder\u001b[38;5;241m.\u001b[39mdatasets\u001b[38;5;241m.\u001b[39mitems():\n\u001b[0;32m    816\u001b[0m     \u001b[38;5;28mself\u001b[39m\u001b[38;5;241m.\u001b[39mwrite_dataset(\u001b[38;5;28mself\u001b[39m\u001b[38;5;241m.\u001b[39m__file, dbldr, \u001b[38;5;241m*\u001b[39m\u001b[38;5;241m*\u001b[39mkwargs)\n",
      "File \u001b[1;32md:\\venv\\nwb2\\lib\\site-packages\\hdmf\\utils.py:664\u001b[0m, in \u001b[0;36mdocval.<locals>.dec.<locals>.func_call\u001b[1;34m(*args, **kwargs)\u001b[0m\n\u001b[0;32m    662\u001b[0m \u001b[38;5;28;01mdef\u001b[39;00m \u001b[38;5;21mfunc_call\u001b[39m(\u001b[38;5;241m*\u001b[39margs, \u001b[38;5;241m*\u001b[39m\u001b[38;5;241m*\u001b[39mkwargs):\n\u001b[0;32m    663\u001b[0m     pargs \u001b[38;5;241m=\u001b[39m _check_args(args, kwargs)\n\u001b[1;32m--> 664\u001b[0m     \u001b[38;5;28;01mreturn\u001b[39;00m func(args[\u001b[38;5;241m0\u001b[39m], \u001b[38;5;241m*\u001b[39m\u001b[38;5;241m*\u001b[39mpargs)\n",
      "File \u001b[1;32md:\\venv\\nwb2\\lib\\site-packages\\hdmf\\backends\\hdf5\\h5tools.py:996\u001b[0m, in \u001b[0;36mHDF5IO.write_group\u001b[1;34m(self, **kwargs)\u001b[0m\n\u001b[0;32m    993\u001b[0m \u001b[38;5;28;01mif\u001b[39;00m subgroups:\n\u001b[0;32m    994\u001b[0m     \u001b[38;5;28;01mfor\u001b[39;00m subgroup_name, sub_builder \u001b[38;5;129;01min\u001b[39;00m subgroups\u001b[38;5;241m.\u001b[39mitems():\n\u001b[0;32m    995\u001b[0m         \u001b[38;5;66;03m# do not create an empty group without attributes or links\u001b[39;00m\n\u001b[1;32m--> 996\u001b[0m         \u001b[38;5;28mself\u001b[39m\u001b[38;5;241m.\u001b[39mwrite_group(group, sub_builder, \u001b[38;5;241m*\u001b[39m\u001b[38;5;241m*\u001b[39mkwargs)\n\u001b[0;32m    997\u001b[0m \u001b[38;5;66;03m# write all datasets\u001b[39;00m\n\u001b[0;32m    998\u001b[0m datasets \u001b[38;5;241m=\u001b[39m builder\u001b[38;5;241m.\u001b[39mdatasets\n",
      "File \u001b[1;32md:\\venv\\nwb2\\lib\\site-packages\\hdmf\\utils.py:664\u001b[0m, in \u001b[0;36mdocval.<locals>.dec.<locals>.func_call\u001b[1;34m(*args, **kwargs)\u001b[0m\n\u001b[0;32m    662\u001b[0m \u001b[38;5;28;01mdef\u001b[39;00m \u001b[38;5;21mfunc_call\u001b[39m(\u001b[38;5;241m*\u001b[39margs, \u001b[38;5;241m*\u001b[39m\u001b[38;5;241m*\u001b[39mkwargs):\n\u001b[0;32m    663\u001b[0m     pargs \u001b[38;5;241m=\u001b[39m _check_args(args, kwargs)\n\u001b[1;32m--> 664\u001b[0m     \u001b[38;5;28;01mreturn\u001b[39;00m func(args[\u001b[38;5;241m0\u001b[39m], \u001b[38;5;241m*\u001b[39m\u001b[38;5;241m*\u001b[39mpargs)\n",
      "File \u001b[1;32md:\\venv\\nwb2\\lib\\site-packages\\hdmf\\backends\\hdf5\\h5tools.py:1001\u001b[0m, in \u001b[0;36mHDF5IO.write_group\u001b[1;34m(self, **kwargs)\u001b[0m\n\u001b[0;32m    999\u001b[0m \u001b[38;5;28;01mif\u001b[39;00m datasets:\n\u001b[0;32m   1000\u001b[0m     \u001b[38;5;28;01mfor\u001b[39;00m dset_name, sub_builder \u001b[38;5;129;01min\u001b[39;00m datasets\u001b[38;5;241m.\u001b[39mitems():\n\u001b[1;32m-> 1001\u001b[0m         \u001b[38;5;28mself\u001b[39m\u001b[38;5;241m.\u001b[39mwrite_dataset(group, sub_builder, \u001b[38;5;241m*\u001b[39m\u001b[38;5;241m*\u001b[39mkwargs)\n\u001b[0;32m   1002\u001b[0m \u001b[38;5;66;03m# write all links\u001b[39;00m\n\u001b[0;32m   1003\u001b[0m links \u001b[38;5;241m=\u001b[39m builder\u001b[38;5;241m.\u001b[39mlinks\n",
      "File \u001b[1;32md:\\venv\\nwb2\\lib\\site-packages\\hdmf\\utils.py:664\u001b[0m, in \u001b[0;36mdocval.<locals>.dec.<locals>.func_call\u001b[1;34m(*args, **kwargs)\u001b[0m\n\u001b[0;32m    662\u001b[0m \u001b[38;5;28;01mdef\u001b[39;00m \u001b[38;5;21mfunc_call\u001b[39m(\u001b[38;5;241m*\u001b[39margs, \u001b[38;5;241m*\u001b[39m\u001b[38;5;241m*\u001b[39mkwargs):\n\u001b[0;32m    663\u001b[0m     pargs \u001b[38;5;241m=\u001b[39m _check_args(args, kwargs)\n\u001b[1;32m--> 664\u001b[0m     \u001b[38;5;28;01mreturn\u001b[39;00m func(args[\u001b[38;5;241m0\u001b[39m], \u001b[38;5;241m*\u001b[39m\u001b[38;5;241m*\u001b[39mpargs)\n",
      "File \u001b[1;32md:\\venv\\nwb2\\lib\\site-packages\\hdmf\\backends\\hdf5\\h5tools.py:1121\u001b[0m, in \u001b[0;36mHDF5IO.write_dataset\u001b[1;34m(self, **kwargs)\u001b[0m\n\u001b[0;32m   1119\u001b[0m parent_filename \u001b[38;5;241m=\u001b[39m os\u001b[38;5;241m.\u001b[39mpath\u001b[38;5;241m.\u001b[39mabspath(parent\u001b[38;5;241m.\u001b[39mfile\u001b[38;5;241m.\u001b[39mfilename)\n\u001b[0;32m   1120\u001b[0m \u001b[38;5;28;01mif\u001b[39;00m data_filename \u001b[38;5;241m!=\u001b[39m parent_filename:  \u001b[38;5;66;03m# create external link to data\u001b[39;00m\n\u001b[1;32m-> 1121\u001b[0m     relative_path \u001b[38;5;241m=\u001b[39m \u001b[43mos\u001b[49m\u001b[38;5;241;43m.\u001b[39;49m\u001b[43mpath\u001b[49m\u001b[38;5;241;43m.\u001b[39;49m\u001b[43mrelpath\u001b[49m\u001b[43m(\u001b[49m\u001b[43mdata_filename\u001b[49m\u001b[43m,\u001b[49m\u001b[43m \u001b[49m\u001b[43mos\u001b[49m\u001b[38;5;241;43m.\u001b[39;49m\u001b[43mpath\u001b[49m\u001b[38;5;241;43m.\u001b[39;49m\u001b[43mdirname\u001b[49m\u001b[43m(\u001b[49m\u001b[43mparent_filename\u001b[49m\u001b[43m)\u001b[49m\u001b[43m)\u001b[49m\n\u001b[0;32m   1122\u001b[0m     link \u001b[38;5;241m=\u001b[39m ExternalLink(relative_path, data\u001b[38;5;241m.\u001b[39mname)\n\u001b[0;32m   1123\u001b[0m     \u001b[38;5;28mself\u001b[39m\u001b[38;5;241m.\u001b[39mlogger\u001b[38;5;241m.\u001b[39mdebug(\u001b[38;5;124m\"\u001b[39m\u001b[38;5;124m    Creating ExternalLink \u001b[39m\u001b[38;5;124m'\u001b[39m\u001b[38;5;132;01m%s\u001b[39;00m\u001b[38;5;124m/\u001b[39m\u001b[38;5;132;01m%s\u001b[39;00m\u001b[38;5;124m'\u001b[39m\u001b[38;5;124m to \u001b[39m\u001b[38;5;124m'\u001b[39m\u001b[38;5;132;01m%s\u001b[39;00m\u001b[38;5;124m://\u001b[39m\u001b[38;5;132;01m%s\u001b[39;00m\u001b[38;5;124m'\u001b[39m\u001b[38;5;124m\"\u001b[39m\n\u001b[0;32m   1124\u001b[0m                       \u001b[38;5;241m%\u001b[39m (parent\u001b[38;5;241m.\u001b[39mname, name, link\u001b[38;5;241m.\u001b[39mfilename, link\u001b[38;5;241m.\u001b[39mpath))\n",
      "File \u001b[1;32mC:\\Program Files\\Python310\\lib\\ntpath.py:747\u001b[0m, in \u001b[0;36mrelpath\u001b[1;34m(path, start)\u001b[0m\n\u001b[0;32m    745\u001b[0m path_drive, path_rest \u001b[38;5;241m=\u001b[39m splitdrive(path_abs)\n\u001b[0;32m    746\u001b[0m \u001b[38;5;28;01mif\u001b[39;00m normcase(start_drive) \u001b[38;5;241m!=\u001b[39m normcase(path_drive):\n\u001b[1;32m--> 747\u001b[0m     \u001b[38;5;28;01mraise\u001b[39;00m \u001b[38;5;167;01mValueError\u001b[39;00m(\u001b[38;5;124m\"\u001b[39m\u001b[38;5;124mpath is on mount \u001b[39m\u001b[38;5;132;01m%r\u001b[39;00m\u001b[38;5;124m, start on mount \u001b[39m\u001b[38;5;132;01m%r\u001b[39;00m\u001b[38;5;124m\"\u001b[39m \u001b[38;5;241m%\u001b[39m (\n\u001b[0;32m    748\u001b[0m         path_drive, start_drive))\n\u001b[0;32m    750\u001b[0m start_list \u001b[38;5;241m=\u001b[39m [x \u001b[38;5;28;01mfor\u001b[39;00m x \u001b[38;5;129;01min\u001b[39;00m start_rest\u001b[38;5;241m.\u001b[39msplit(sep) \u001b[38;5;28;01mif\u001b[39;00m x]\n\u001b[0;32m    751\u001b[0m path_list \u001b[38;5;241m=\u001b[39m [x \u001b[38;5;28;01mfor\u001b[39;00m x \u001b[38;5;129;01min\u001b[39;00m path_rest\u001b[38;5;241m.\u001b[39msplit(sep) \u001b[38;5;28;01mif\u001b[39;00m x]\n",
      "\u001b[1;31mValueError\u001b[0m: path is on mount 'Z:', start on mount 'D:'"
     ]
    }
   ],
   "source": [
    "import os\n",
    "import h5py\n",
    "from pynwb import NWBFile, NWBHDF5IO\n",
    "from pynwb.file import Subject\n",
    "from pynwb.base import TimeSeries\n",
    "from datetime import datetime\n",
    "from pathlib import Path, PurePath\n",
    "\n",
    "##################################################################################\n",
    "# INPUT: H5 file\n",
    "h5_src_file_path = 'D:/temp'\n",
    "h5_filename = '02.Jun.2023_17.06.29_JD221115M1_G80_dualpuff_0.08Hzsvd_puff_wave.h5'\n",
    "h5_file_path = Path(h5_src_file_path, h5_filename)\n",
    "h5_file = h5py.File(h5_file_path, 'r')\n",
    "\n",
    "# OUTPUT: NWB file\n",
    "OUTPUT = Path('D:/temp/', 'output')\n",
    "nwb_filename = 'h5_to_nwb_test.nwb'\n",
    "Path(OUTPUT).mkdir(parents=True, exist_ok=True)\n",
    "output_path = Path(OUTPUT, nwb_filename)\n",
    "\n",
    "##################################################################################\n",
    "\n",
    "def displaySummaryParam(input, output):\n",
    "    print(\"*\"*40)\n",
    "    print(\"USING THE FOLLOWING PARAMETERS:\\n\")\n",
    "    print(f'INPUT FILE: {input} [ABSOLUTE PATH OR PATH RELATIVE TO CURRENT DIRECTORY]\\n')\n",
    "    print(f'OUTPUT FOLDER: {output} [DEFAULT: CURRENT WORKING DIRECTORY]\\n')\n",
    "    \n",
    "\n",
    "displaySummaryParam(h5_file_path, output_path)\n",
    "\n",
    "# Create an NWBFile object\n",
    "nwbfile = NWBFile(\n",
    "    session_description='Your session description',\n",
    "    identifier='your_identifier',\n",
    "    session_start_time=datetime.now().astimezone(),\n",
    "    file_create_date=datetime.now().astimezone()\n",
    ")\n",
    "\n",
    "# Extract data from H5 and add it to NWBFile\n",
    "# This step will vary depending on the structure of your H5 file\n",
    "data = h5_file['wave']\n",
    "nwbfile.add_acquisition(\n",
    "    TimeSeries(\n",
    "        name='your_timeseries_name',\n",
    "        data=data,\n",
    "        unit='your_unit',\n",
    "        starting_time=0.0,  # Adjust as needed\n",
    "        rate=1.0  # Adjust as needed\n",
    "    )\n",
    ")\n",
    "\n",
    "# Write the NWB file\n",
    "with NWBHDF5IO(output_path, 'w') as io:\n",
    "    io.write(nwbfile)\n",
    "\n",
    "# Close the H5 file\n",
    "h5_file.close()\n"
   ]
  }
 ],
 "metadata": {
  "kernelspec": {
   "display_name": "Python 3",
   "language": "python",
   "name": "python3"
  },
  "language_info": {
   "codemirror_mode": {
    "name": "ipython",
    "version": 3
   },
   "file_extension": ".py",
   "mimetype": "text/x-python",
   "name": "python",
   "nbconvert_exporter": "python",
   "pygments_lexer": "ipython3",
   "version": "3.10.11"
  }
 },
 "nbformat": 4,
 "nbformat_minor": 2
}
