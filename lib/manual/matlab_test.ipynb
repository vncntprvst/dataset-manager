{
 "cells": [
  {
   "cell_type": "code",
   "execution_count": 38,
   "id": "initial_id",
   "metadata": {
    "collapsed": true,
    "ExecuteTime": {
     "end_time": "2023-09-06T22:43:28.241435100Z",
     "start_time": "2023-09-06T22:43:27.972281300Z"
    }
   },
   "outputs": [
    {
     "name": "stdout",
     "output_type": "stream",
     "text": [
      "[[array([[(array([[1.98062503],\n",
      "                 [1.70468748],\n",
      "                 [1.46406245],\n",
      "                 ...,\n",
      "                 [0.99656248],\n",
      "                 [1.02499998],\n",
      "                 [0.97500002]]), array([[   7.18135,   12.10435,   15.72095, ..., 3617.81   , 3619.59085,\n",
      "                  3621.28715]]))                                                                         ]],\n",
      "        dtype=[('pks', 'O'), ('Locations', 'O')])                                                           ]]\n"
     ]
    },
    {
     "ename": "UnboundLocalError",
     "evalue": "cannot access local variable 'df' where it is not associated with a value",
     "output_type": "error",
     "traceback": [
      "\u001B[1;31m---------------------------------------------------------------------------\u001B[0m",
      "\u001B[1;31mUnboundLocalError\u001B[0m                         Traceback (most recent call last)",
      "Input \u001B[1;32mIn [38]\u001B[0m, in \u001B[0;36m<cell line: 0>\u001B[1;34m()\u001B[0m\n\u001B[0;32m     41\u001B[0m input_file \u001B[38;5;241m=\u001B[39m Path(input_path, \u001B[38;5;124m'\u001B[39m\u001B[38;5;124mtestdata.mat\u001B[39m\u001B[38;5;124m'\u001B[39m)\n\u001B[0;32m     42\u001B[0m \u001B[38;5;66;03m##################################################################################\u001B[39;00m\n\u001B[1;32m---> 44\u001B[0m df_meta_data \u001B[38;5;241m=\u001B[39m \u001B[43mload_data\u001B[49m\u001B[43m(\u001B[49m\u001B[43minput_file\u001B[49m\u001B[43m)\u001B[49m\n",
      "Input \u001B[1;32mIn [38]\u001B[0m, in \u001B[0;36mload_data\u001B[1;34m(input_file)\u001B[0m\n\u001B[0;32m     33\u001B[0m \u001B[38;5;28;01melse\u001B[39;00m: \u001B[38;5;66;03m#EXPECTED .ods FILE\u001B[39;00m\n\u001B[0;32m     34\u001B[0m     df \u001B[38;5;241m=\u001B[39m read_ods(input_file)\n\u001B[1;32m---> 36\u001B[0m \u001B[38;5;28;01mreturn\u001B[39;00m \u001B[43mdf\u001B[49m\n",
      "\u001B[1;31mUnboundLocalError\u001B[0m: cannot access local variable 'df' where it is not associated with a value"
     ]
    }
   ],
   "source": [
    "# CREATED: 6-SEP-2023\n",
    "# LAST EDIT: 6-SEP-2023\n",
    "# AUTHOR: DUANE RINEHART, MBA (drinehart@ucsd.edu)\n",
    "\n",
    "#ABANDONDED\n",
    "\n",
    "from datetime import datetime\n",
    "from dateutil.tz import tzlocal\n",
    "from pathlib import Path, PurePath\n",
    "from scipy.io import loadmat\n",
    "import os, sys, re, glob\n",
    "import pandas as pd\n",
    "from pandas_ods_reader import read_ods\n",
    "\n",
    "#TODO:\n",
    "\n",
    "\n",
    "def load_data(input_file: str) -> pd.DataFrame:\n",
    "    '''\n",
    "    READS DATA SOURCE (MATLAB) INTO PANDAS DATAFRAME, BY 'STRUCTURE'\n",
    "    SUPPORTS EXCEL (.xlsx) OR OPEN DOCUMENT FORMAT [OPENOFFICE, LIBREOFFICE] (.ods)\n",
    "\n",
    "    :param input_file: str\n",
    "    :return pd.DataFrame\n",
    "    '''\n",
    "\n",
    "    file_extension = Path(input_file).suffix\n",
    "    if file_extension == '.mat':\n",
    "        mat_data = loadmat(input_file) \n",
    "        \n",
    "        #spike_data = mat_data['thissdata']['Spike']\n",
    "        #spiketimes,assigns\n",
    "        \n",
    "        \n",
    "        #breathing_data = mat_data['thissdata']['Breathing'] #need 'Locations'\n",
    "        \n",
    "        #AmoniaStim.onset\n",
    "        \n",
    "        \n",
    "        #print(spike_data)\n",
    "        print(breathing_data)\n",
    "    elif file_extension == '.xlsx':\n",
    "        df = pd.read_excel(input_file)\n",
    "    else: #EXPECTED .ods FILE\n",
    "        df = read_ods(input_file)\n",
    "        \n",
    "    return df\n",
    "\n",
    "\n",
    "##################################################################################\n",
    "input_path = Path('Z:/', 'U19', 'Deschenes_Group', 'Grimace ammonia')\n",
    "input_file = Path(input_path, 'testdata.mat')\n",
    "##################################################################################\n",
    "\n",
    "df_meta_data = load_data(input_file)\n",
    "# mat_data = loadmat(input_file) \n",
    "# spike_data = mat_data['thissdata']['Spike']\n",
    "# breathing_data = mat_data['thissdata']['Breathing']\n",
    "# \n",
    "# #print(mat_data['thissdata'])\n",
    "# #print(spike_data)\n",
    "# df = pd.DataFrame(spike_data)\n",
    "# df"
   ]
  }
 ],
 "metadata": {
  "kernelspec": {
   "display_name": "Python 3",
   "language": "python",
   "name": "python3"
  },
  "language_info": {
   "codemirror_mode": {
    "name": "ipython",
    "version": 2
   },
   "file_extension": ".py",
   "mimetype": "text/x-python",
   "name": "python",
   "nbconvert_exporter": "python",
   "pygments_lexer": "ipython2",
   "version": "2.7.6"
  }
 },
 "nbformat": 4,
 "nbformat_minor": 5
}
